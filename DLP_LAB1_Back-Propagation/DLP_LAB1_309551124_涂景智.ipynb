{
 "cells": [
  {
   "cell_type": "code",
   "execution_count": 1,
   "metadata": {},
   "outputs": [],
   "source": [
    "import numpy as np\n",
    "import matplotlib.pyplot as plt\n",
    "from random import random"
   ]
  },
  {
   "cell_type": "code",
   "execution_count": 2,
   "metadata": {},
   "outputs": [],
   "source": [
    "def generate_linear(n=100):\n",
    "    pts = np.random.uniform(0, 1, (n, 2))\n",
    "    inputs = []\n",
    "    labels = []\n",
    "    for pt in pts:\n",
    "        inputs.append([pt[0], pt[1]])\n",
    "        distance = (pt[0]*pt[1])/1.414\n",
    "        if pt[0]>pt[1]:\n",
    "            labels.append(0.0)\n",
    "        else:\n",
    "            labels.append(1.0)\n",
    "    \n",
    "    return np.array(inputs), np.array(labels).reshape(n, 1)\n",
    "        \n",
    "def generate_XOR_easy():\n",
    "    inputs = []\n",
    "    labels = []\n",
    "    for i in range(11):\n",
    "        inputs.append([0.1*i, 0.1*i])\n",
    "        labels.append(0)       \n",
    "        if 0.1*i == 0.5:\n",
    "            continue\n",
    "        inputs.append([0.1*i, 1-0.1*i])\n",
    "        labels.append(1)\n",
    "        \n",
    "    return np.array(inputs), np.array(labels).reshape(21, 1)"
   ]
  },
  {
   "cell_type": "code",
   "execution_count": 3,
   "metadata": {},
   "outputs": [],
   "source": [
    "x, y = generate_linear(n=100)"
   ]
  },
  {
   "cell_type": "code",
   "execution_count": 13,
   "metadata": {},
   "outputs": [],
   "source": [
    "x, y = generate_XOR_easy()"
   ]
  },
  {
   "cell_type": "code",
   "execution_count": 15,
   "metadata": {},
   "outputs": [
    {
     "name": "stdout",
     "output_type": "stream",
     "text": [
      "epoch=0, error=8.70293353145995\n",
      "epoch=500, error=5.237242678934333\n",
      "epoch=1000, error=5.234508086028232\n",
      "epoch=1500, error=5.218932033234961\n",
      "epoch=2000, error=4.611783509256094\n",
      "epoch=2500, error=1.3551102884185766\n",
      "epoch=3000, error=0.9553069549791888\n",
      "epoch=3500, error=0.9266055626490098\n",
      "epoch=4000, error=0.9192612815074984\n",
      "epoch=4500, error=0.9161987229249557\n",
      "epoch=5000, error=0.9145864935466854\n",
      "epoch=5500, error=0.9136175075851073\n",
      "epoch=6000, error=0.9129849748529013\n",
      "epoch=6500, error=0.9125494709016938\n",
      "epoch=7000, error=0.9122394973111349\n",
      "epoch=7500, error=0.9120151256623902\n",
      "epoch=8000, error=0.9118526801750648\n",
      "epoch=8500, error=0.9117375780002027\n",
      "epoch=9000, error=0.9116607186454503\n",
      "epoch=9500, error=0.911616571410535\n"
     ]
    }
   ],
   "source": [
    "epoch_draw = []\n",
    "loss_draw = []\n",
    "\n",
    "def sigmoid (x):\n",
    "    return 1/(1 + np.exp(-x))\n",
    "\n",
    "def sigmoid_derivative(x):\n",
    "    return x * (1 - x)\n",
    "\n",
    "#Input datasets\n",
    "inputs = np.array(x)\n",
    "expected_output = np.array(y)\n",
    "\n",
    "epochs = 10000\n",
    "inputLayerNeurons, hidden1LayerNeurons, hidden2LayerNeurons, outputLayerNeurons = 2,4,4,1\n",
    "\n",
    "#Random weights and bias init\n",
    "hidden1_weights = np.random.uniform(size=(inputLayerNeurons,hidden1LayerNeurons))\n",
    "hidden1_bias =np.random.uniform(size=(1,hidden1LayerNeurons))\n",
    "\n",
    "hidden2_weights = np.random.uniform(size=(hidden1LayerNeurons,hidden2LayerNeurons))\n",
    "hidden2_bias =np.random.uniform(size=(1,hidden2LayerNeurons))\n",
    "\n",
    "output_weights = np.random.uniform(size=(hidden2LayerNeurons,outputLayerNeurons))\n",
    "output_bias = np.random.uniform(size=(1,outputLayerNeurons))\n",
    "\n",
    "#Training algorithm\n",
    "for e in range(epochs): \n",
    "    \n",
    "    loss = 0\n",
    "    \n",
    "    if e < epochs/4:\n",
    "        lr = 0.3\n",
    "    else:\n",
    "        lr = 0.3*(1 - e/epochs)\n",
    "        \n",
    "#     lr = 0.3 - 0.3 * pow(5, (1 - epochs / (e + 0.00001)))\n",
    "\n",
    "#     if e < epochs/4:\n",
    "#         lr = 0.3\n",
    "#     elif e < epochs/2:\n",
    "#         lr = 0.1\n",
    "#     elif e < epochs/4*3:\n",
    "#         lr = 0.05\n",
    "#     else:\n",
    "#         lr = 0.01\n",
    "        \n",
    "    #Forward Propagation\n",
    "    hidden1_layer_activation = np.dot(inputs,hidden1_weights)\n",
    "    hidden1_layer_activation += hidden1_bias\n",
    "    hidden1_layer_output = sigmoid(hidden1_layer_activation)\n",
    "#     hidden1_layer_output = ReLU(hidden1_layer_activation)\n",
    "    \n",
    "    hidden2_layer_activation = np.dot(hidden1_layer_output,hidden2_weights)\n",
    "    hidden2_layer_activation += hidden2_bias\n",
    "    hidden2_layer_output = sigmoid(hidden2_layer_activation)\n",
    "#     hidden2_layer_output = ReLU(hidden2_layer_activation)\n",
    "\n",
    "    output_layer_activation = np.dot(hidden2_layer_output,output_weights)\n",
    "    output_layer_activation += output_bias\n",
    "    predicted_output = sigmoid(output_layer_activation)\n",
    "#     predicted_output = ReLU(output_layer_activation)\n",
    "\n",
    "    #Backpropagation\n",
    "    error = expected_output - predicted_output\n",
    "    #print(error)\n",
    "    for each in error:\n",
    "        loss += each[0]*each[0]\n",
    "    d_predicted_output = error * sigmoid_derivative(predicted_output)\n",
    "#     d_predicted_output = error * ReLU_derivative(predicted_output)\n",
    "\n",
    "    error_hidden2_layer = d_predicted_output.dot(output_weights.T)\n",
    "    d_hidden2_layer = error_hidden2_layer * sigmoid_derivative(hidden2_layer_output)\n",
    "#     d_hidden2_layer = error_hidden2_layer * ReLU_derivative(hidden2_layer_output)\n",
    "    \n",
    "    error_hidden1_layer = d_hidden2_layer.dot(hidden2_weights.T)\n",
    "    d_hidden1_layer = error_hidden1_layer * sigmoid_derivative(hidden1_layer_output)\n",
    "#     d_hidden1_layer = error_hidden1_layer * ReLU_derivative(hidden1_layer_output)\n",
    "\n",
    "    #Update Weights and Biases\n",
    "    output_weights += hidden2_layer_output.T.dot(d_predicted_output) * lr\n",
    "    output_bias += np.sum(d_predicted_output,axis=0,keepdims=True) * lr\n",
    "    hidden2_weights += hidden1_layer_output.T.dot(d_hidden2_layer) * lr\n",
    "    hidden2_bias += np.sum(d_hidden2_layer,axis=0,keepdims=True) * lr\n",
    "    hidden1_weights += inputs.T.dot(d_hidden1_layer) * lr\n",
    "    hidden1_bias += np.sum(d_hidden1_layer,axis=0,keepdims=True) * lr\n",
    "    \n",
    "    if e%50==0:\n",
    "        epoch_draw.append(e)\n",
    "        loss_draw.append(loss)\n",
    "        print(\"epoch={}, error={}\".format(e, loss))\n",
    "    \n",
    "\n",
    "# print(predicted_output.shape)\n",
    "# print(predicted_output)"
   ]
  },
  {
   "cell_type": "code",
   "execution_count": 16,
   "metadata": {},
   "outputs": [
    {
     "name": "stdout",
     "output_type": "stream",
     "text": [
      "[[0.01084396]\n",
      " [0.90718881]\n",
      " [0.01043695]\n",
      " [0.90713268]\n",
      " [0.00983959]\n",
      " [0.90707516]\n",
      " [0.00938408]\n",
      " [0.90701629]\n",
      " [0.02906366]\n",
      " [0.90695611]\n",
      " [0.90689466]\n",
      " [0.03403991]\n",
      " [0.90683197]\n",
      " [0.00388654]\n",
      " [0.90676808]\n",
      " [0.00251581]\n",
      " [0.90670304]\n",
      " [0.00217562]\n",
      " [0.90663688]\n",
      " [0.00203501]\n",
      " [0.90656965]]\n"
     ]
    }
   ],
   "source": [
    "print(predicted_output)"
   ]
  },
  {
   "cell_type": "code",
   "execution_count": 5,
   "metadata": {},
   "outputs": [],
   "source": [
    "pred_y = []\n",
    "for each in predicted_output:\n",
    "    if each[0]<0.5:\n",
    "        pred_y.append(0)\n",
    "    else:\n",
    "        pred_y.append(1)"
   ]
  },
  {
   "cell_type": "code",
   "execution_count": 6,
   "metadata": {},
   "outputs": [],
   "source": [
    "def show_result(x, y, pred_y):\n",
    "    plt.subplot(1,2,1)\n",
    "    plt.title('Ground truth', fontsize=18)\n",
    "    for i in range (x.shape[0]):\n",
    "        if y[i] == 0:\n",
    "            plt.plot(x[i][0], x[i][1], 'ro')\n",
    "        else:\n",
    "            plt.plot(x[i][0], x[i][1], 'bo')\n",
    "    \n",
    "    plt.subplot(1,2,2)\n",
    "    plt.title('Predict truth', fontsize=18)\n",
    "    for i in range (x.shape[0]):\n",
    "        if pred_y[i] == 0:\n",
    "            plt.plot(x[i][0], x[i][1], 'ro')\n",
    "        else:\n",
    "            plt.plot(x[i][0], x[i][1], 'bo')       \n",
    "    plt.show()"
   ]
  },
  {
   "cell_type": "code",
   "execution_count": 7,
   "metadata": {},
   "outputs": [
    {
     "data": {
      "image/png": "[encoded data removed]",
      "text/plain": [
       "<Figure size 432x288 with 2 Axes>"
      ]
     },
     "metadata": {
      "needs_background": "light"
     },
     "output_type": "display_data"
    }
   ],
   "source": [
    "show_result(x, y, pred_y)"
   ]
  },
  {
   "cell_type": "code",
   "execution_count": 8,
   "metadata": {},
   "outputs": [],
   "source": [
    "def test_accuracy(train_y, pred_y):\n",
    "    wrong = 0.0\n",
    "    for i in range(len(train_y)):\n",
    "        if train_y[i] != pred_y[i]:\n",
    "            wrong += 1.0\n",
    "    return (len(train_y)-wrong)/len(train_y)"
   ]
  },
  {
   "cell_type": "code",
   "execution_count": 9,
   "metadata": {},
   "outputs": [
    {
     "name": "stdout",
     "output_type": "stream",
     "text": [
      "1.0\n"
     ]
    }
   ],
   "source": [
    "acc = test_accuracy(y, pred_y)\n",
    "print(acc)"
   ]
  },
  {
   "cell_type": "code",
   "execution_count": 10,
   "metadata": {},
   "outputs": [],
   "source": [
    "def show_learning_curve(epoch, loss):\n",
    "    plt.plot(epoch, loss)\n",
    "    plt.xlabel('epoch')\n",
    "    plt.ylabel('loss')\n",
    "    plt.show()"
   ]
  },
  {
   "cell_type": "code",
   "execution_count": 11,
   "metadata": {},
   "outputs": [
    {
     "data": {
      "image/png": "[encoded data removed]",
      "text/plain": [
       "<Figure size 432x288 with 1 Axes>"
      ]
     },
     "metadata": {
      "needs_background": "light"
     },
     "output_type": "display_data"
    }
   ],
   "source": [
    "show_learning_curve(epoch_draw, loss_draw)"
   ]
  },
  {
   "cell_type": "code",
   "execution_count": 12,
   "metadata": {},
   "outputs": [
    {
     "data": {
      "image/png": "[encoded data removed]",
      "text/plain": [
       "<Figure size 432x288 with 1 Axes>"
      ]
     },
     "metadata": {
      "needs_background": "light"
     },
     "output_type": "display_data"
    }
   ],
   "source": [
    "epochs = 10000\n",
    "learning_rate = 0.6\n",
    "decay_rate = 3\n",
    "\n",
    "decay_steps_a = []\n",
    "decayed_learning_rate_a = []\n",
    "\n",
    "for e in range(epochs):\n",
    "    if e < epochs/4:\n",
    "        lr = 0.3\n",
    "    else:\n",
    "        lr = 0.3*(1 - e/epochs)\n",
    "    decay_steps_a.append(e)\n",
    "    decayed_learning_rate_a.append(lr)\n",
    "    \n",
    "plt.plot(decay_steps_a, decayed_learning_rate_a)\n",
    "plt.show()"
   ]
  },
  {
   "cell_type": "code",
   "execution_count": null,
   "metadata": {},
   "outputs": [],
   "source": [
    "def ReLU(x):\n",
    "    return np.maximum(0,x)\n",
    "\n",
    "def ReLU_derivative(x):\n",
    "    tmp = x\n",
    "    for i in range(x.shape[0]):\n",
    "        for j in range(x.shape[1]):\n",
    "            if x[i][j] > 0:\n",
    "                tmp[i][j] = 1\n",
    "            else:\n",
    "                tmp[i][j] = 0\n",
    "    return tmp"
   ]
  },
  {
   "cell_type": "code",
   "execution_count": null,
   "metadata": {},
   "outputs": [],
   "source": [
    "def arctan (x):\n",
    "    return np.arctan(x)\n",
    "\n",
    "def arctan_derivative(x):\n",
    "    tmp = x\n",
    "    for i in range(x.shape[0]):\n",
    "        for j in range(x.shape[1]):\n",
    "            tmp[i][j] = 1 / (x[i][j]**2 + 1)\n",
    "    return tmp"
   ]
  }
 ],
 "metadata": {
  "kernelspec": {
   "display_name": "Python 3",
   "language": "python",
   "name": "python3"
  },
  "language_info": {
   "codemirror_mode": {
    "name": "ipython",
    "version": 3
   },
   "file_extension": ".py",
   "mimetype": "text/x-python",
   "name": "python",
   "nbconvert_exporter": "python",
   "pygments_lexer": "ipython3",
   "version": "3.7.6"
  }
 },
 "nbformat": 4,
 "nbformat_minor": 4
}
